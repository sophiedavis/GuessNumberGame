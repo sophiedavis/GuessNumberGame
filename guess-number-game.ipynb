{
 "cells": [
  {
   "cell_type": "code",
   "execution_count": 1,
   "metadata": {},
   "outputs": [],
   "source": [
    "from qhue import Bridge, QhueException, create_new_username\n",
    "import numpy as np\n",
    "import time"
   ]
  },
  {
   "cell_type": "code",
   "execution_count": 2,
   "metadata": {},
   "outputs": [
    {
     "name": "stdout",
     "output_type": "stream",
     "text": [
      "Sophie celing    1\n",
      "Sophie lightstrip bottom 2\n",
      "Chloe lightstrip bottom 3\n",
      "Chloe celing     4\n",
      "Living room tripod 5\n",
      "Living room desk 6\n",
      "Kitchen lightstrip right 7\n",
      "Kitchen lightstrip left 8\n",
      "Hallway first floor 9\n",
      "Sophie lightstrip top 10\n",
      "Chloe lightstrip top 11\n",
      "Living room go   12\n",
      "Living room play left 13\n",
      "Living room play right 14\n"
     ]
    }
   ],
   "source": [
    "BRIDGE_IP='192.168.86.191'\n",
    "username='flx9tB8lIV2vhNmWGlx2fWaHD2IoNPlEoNRaWIdJ'\n",
    "\n",
    "bridge = Bridge(BRIDGE_IP, username)\n",
    "lights = bridge.lights()\n",
    "for num, info in lights.items():\n",
    "    print(\"{:16} {}\".format(info['name'], num))"
   ]
  },
  {
   "cell_type": "code",
   "execution_count": 3,
   "metadata": {},
   "outputs": [],
   "source": [
    "colour_base = 65535\n",
    "colour_error = (65535-43690) /100\n",
    "\n",
    "def paint_room(error):\n",
    "    hue = int(colour_base - (error * colour_error))\n",
    "    bridge.lights[10].state(on=True, hue=hue, sat=254)\n",
    "    bridge.lights[1].state(on=True, hue=hue, sat=254)\n",
    "    bridge.lights[2].state(on=True, hue=hue, sat=254)\n",
    "\n",
    "def paint_celebrate(flashes):\n",
    "    for i in range(flashes):\n",
    "        bridge.lights[10].state(on=True, hue=np.random.randint(0, 65535), sat=254)\n",
    "        bridge.lights[1].state(on=True, hue=np.random.randint(0, 65535), sat=254)\n",
    "        bridge.lights[2].state(on=True, hue=np.random.randint(0, 65535), sat=254)\n",
    "        time.sleep(0.5)"
   ]
  },
  {
   "cell_type": "code",
   "execution_count": 5,
   "metadata": {},
   "outputs": [
    {
     "name": "stdout",
     "output_type": "stream",
     "text": [
      "enter number (0-100):50\n",
      "lower\n",
      "enter number (0-100):10\n",
      "lower\n",
      "enter number (0-100):5\n",
      "lower\n",
      "enter number (0-100):100\n",
      "lower\n",
      "enter number (0-100):1\n",
      "yay!!!!\n"
     ]
    }
   ],
   "source": [
    "\n",
    "\n",
    "help = True\n",
    "target = np.random.randint(0,100)\n",
    "guess = -1\n",
    "\n",
    "while target != guess:\n",
    "    if help == True and guess > 0:\n",
    "        print('higher' if guess < target else 'lower')\n",
    "    guess = int(input('enter number (0-100):'))\n",
    "    error = abs(target-guess)\n",
    "    paint_room(error=error)\n",
    "    \n",
    "print('yay!!!!')\n",
    "paint_celebrate(flashes=15)"
   ]
  },
  {
   "cell_type": "code",
   "execution_count": null,
   "metadata": {},
   "outputs": [],
   "source": []
  },
  {
   "cell_type": "code",
   "execution_count": null,
   "metadata": {},
   "outputs": [],
   "source": []
  }
 ],
 "metadata": {
  "kernelspec": {
   "display_name": "Python 3",
   "language": "python",
   "name": "python3"
  },
  "language_info": {
   "codemirror_mode": {
    "name": "ipython",
    "version": 3
   },
   "file_extension": ".py",
   "mimetype": "text/x-python",
   "name": "python",
   "nbconvert_exporter": "python",
   "pygments_lexer": "ipython3",
   "version": "3.7.6"
  }
 },
 "nbformat": 4,
 "nbformat_minor": 4
}
